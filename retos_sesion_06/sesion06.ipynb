{
 "cells": [
  {
   "cell_type": "code",
   "execution_count": 9,
   "metadata": {},
   "outputs": [
    {
     "name": "stdout",
     "output_type": "stream",
     "text": [
      "EJERCICIO 01\n",
      "\n",
      "¿Si se declara una variable boolean del valor -1 es True o False?\n",
      "True\n",
      "\n",
      "cualquier valor distinto de cero se evalúa como True\n",
      "cualquier valor igual a cero se evalúa como False\n"
     ]
    }
   ],
   "source": [
    "print(\"EJERCICIO 01\")\n",
    "print()\n",
    "print(\"¿Si se declara una variable boolean del valor -1 es True o False?\")\n",
    "variable = -1\n",
    "print(bool(variable)) \n",
    "print()\n",
    "print(\"cualquier valor distinto de cero se evalúa como True\")\n",
    "print(\"cualquier valor igual a cero se evalúa como False\")\n"
   ]
  },
  {
   "cell_type": "code",
   "execution_count": 10,
   "metadata": {},
   "outputs": [
    {
     "name": "stdout",
     "output_type": "stream",
     "text": [
      "EJERCICIO 02\n",
      "\n",
      "Construir el operador XNOR en Python\n",
      "\n",
      "Operador XNOR\n",
      "a    b    a XNOR b\n",
      "True True True\n",
      "True False False\n",
      "False True False\n",
      "False False True\n"
     ]
    }
   ],
   "source": [
    "print(\"EJERCICIO 02\")\n",
    "print()\n",
    "print(\"Construir el operador XNOR en Python\")\n",
    "print()\n",
    "print (\"Operador XNOR\")\n",
    "print (\"a   \", \"b   \", \"a XNOR b\") \n",
    "a = True\n",
    "b = True\n",
    "print (a, b, not((a or b) and not (a and b)))\n",
    "a = True\n",
    "b = False\n",
    "print (a, b, not((a or b) and not (a and b)))\n",
    "a = False\n",
    "b = True\n",
    "print (a, b, not((a or b) and not (a and b)))\n",
    "a = False\n",
    "b = False\n",
    "print (a, b, not((a or b) and not (a and b)))"
   ]
  },
  {
   "cell_type": "code",
   "execution_count": 11,
   "metadata": {},
   "outputs": [
    {
     "name": "stdout",
     "output_type": "stream",
     "text": [
      "EJERCICIO 03\n",
      "\n",
      "Abriendo la puerta\n",
      "luz 1    luz 2    Abre Puerta\n",
      "True True True\n",
      "True False False\n",
      "False True False\n",
      "False False True\n",
      "Abriendo la puerta - Utilizando XNOR\n",
      "luz 1    luz 2    Abre Puerta - XNOR\n",
      "True True True\n",
      "True False False\n",
      "False True False\n",
      "False False True\n"
     ]
    }
   ],
   "source": [
    "print(\"EJERCICIO 03\")\n",
    "print()\n",
    "print (\"Abriendo la puerta\")\n",
    "print (\"luz 1   \", \"luz 2   \", \"Abre Puerta\") \n",
    "luz1 = True\n",
    "luz2 = True\n",
    "print (luz1, luz2, luz1 == luz2)\n",
    "luz1 = True\n",
    "luz2 = False\n",
    "print (luz1, luz2, luz1 == luz2)\n",
    "luz1 = False\n",
    "luz2 = True\n",
    "print (luz1, luz2, luz1 == luz2)\n",
    "luz1 = False\n",
    "luz2 = False\n",
    "print (luz1, luz2, luz1 == luz2)\n",
    "\n",
    "print (\"Abriendo la puerta - Utilizando XNOR\")\n",
    "print (\"luz 1   \", \"luz 2   \", \"Abre Puerta - XNOR\") \n",
    "luz1 = True\n",
    "luz2 = True\n",
    "print (luz1, luz2, not((luz1 or luz2) and not (luz1 and luz2)))\n",
    "luz1 = True\n",
    "luz2 = False\n",
    "print (luz1, luz2, not((luz1 or luz2) and not (luz1 and luz2)))\n",
    "luz1 = False\n",
    "luz2 = True\n",
    "print (luz1, luz2, not((luz1 or luz2) and not (luz1 and luz2)))\n",
    "luz1 = False\n",
    "luz2 = False\n",
    "print (luz1, luz2, not((luz1 or luz2) and not (luz1 and luz2)))"
   ]
  },
  {
   "cell_type": "code",
   "execution_count": 12,
   "metadata": {},
   "outputs": [
    {
     "name": "stdout",
     "output_type": "stream",
     "text": [
      "EJERCICIO 04\n",
      "\n",
      "La suma de los números 7 y 3 es un número par?\n",
      "7  +  3  =  10\n",
      "True\n"
     ]
    }
   ],
   "source": [
    "print(\"EJERCICIO 04\")\n",
    "print()\n",
    "print(\"La suma de los números 7 y 3 es un número par?\")\n",
    "nro1 = 7\n",
    "nro2 = 3\n",
    "print(nro1, \" + \", nro2, \" = \", nro1+nro2)\n",
    "print((nro1 + nro2) % 2 == 0)"
   ]
  },
  {
   "cell_type": "code",
   "execution_count": 13,
   "metadata": {},
   "outputs": [
    {
     "name": "stdout",
     "output_type": "stream",
     "text": [
      "EJERCICIO 05\n",
      "\n",
      "Comparar los números 123 y 890, comprobar si tienen la misma paridad ambos pares o ambos impares\n",
      "123 890 ¿Tienen la misma paridad?\n",
      "False\n"
     ]
    }
   ],
   "source": [
    "print(\"EJERCICIO 05\")\n",
    "print()\n",
    "print(\"Comparar los números 123 y 890, comprobar si tienen la misma paridad ambos pares o ambos impares\")\n",
    "nro1 = 123\n",
    "nro2 = 890\n",
    "misma_paridad = (nro1 % 2) == (nro2 % 2)\n",
    "print(nro1, nro2, \"¿Tienen la misma paridad?\")\n",
    "print(misma_paridad)"
   ]
  },
  {
   "cell_type": "code",
   "execution_count": 14,
   "metadata": {},
   "outputs": [
    {
     "name": "stdout",
     "output_type": "stream",
     "text": [
      "EJERCICIO 06\n",
      "\n",
      "¿El cuadrado de 123 se encuentra en el siguiente rango? [N > 0 & N < 20000]\n",
      "123  Cuadrado:  15129\n",
      "15129 está en el rango especificado?  True\n"
     ]
    }
   ],
   "source": [
    "print(\"EJERCICIO 06\")\n",
    "print()\n",
    "print(\"¿El cuadrado de 123 se encuentra en el siguiente rango? [N > 0 & N < 20000]\")\n",
    "nro1 = 123\n",
    "nro2 = nro1 * nro1\n",
    "print(nro1, \" Cuadrado: \", nro2)\n",
    "resultado = nro2 > 0 and nro2 < 20000\n",
    "print(nro2, \"está en el rango especificado? \", resultado)"
   ]
  },
  {
   "cell_type": "code",
   "execution_count": 15,
   "metadata": {},
   "outputs": [
    {
     "name": "stdout",
     "output_type": "stream",
     "text": [
      "EJERCICIO 07\n",
      "\n",
      "¿El cuadrado y la suma de 2 y 2 son iguales?\n",
      "La suma es:  4\n",
      "El cuadrado es:  4\n",
      "El cuadrado y la suma son iguales?  True\n"
     ]
    }
   ],
   "source": [
    "print(\"EJERCICIO 07\")\n",
    "print()\n",
    "print(\"¿El cuadrado y la suma de 2 y 2 son iguales?\")\n",
    "suma = 2 + 2\n",
    "print(\"La suma es: \", suma)\n",
    "cuadrado = 2 * 2\n",
    "print(\"El cuadrado es: \", cuadrado)\n",
    "print(\"El cuadrado y la suma son iguales? \", suma == cuadrado)"
   ]
  },
  {
   "cell_type": "markdown",
   "metadata": {},
   "source": [
    "# Sesión 06\n",
    "## Retos\n",
    "1. ¿Si se declara una variable boolean del valor -1 es True o False?\n",
    "2. Construir el operador XNOR en Python \n",
    "    3.Imprime una tabla de verdad para la siguiente afirmación: \n",
    "    \"Una puerta tiene dos interruptores que controlan dos luces la puerta sólo debe abrirse cuando las dos luces están apagadas o las dos están encendidas, caso contrario la puerta no se abre, ¿qué operador lógico se puede utilizar?\" \n",
    "4. La suma de los números 7 y 3 es un número par?\n",
    "5. Comparar los números 123 y 890, comprobar si tienen la misma paridad ambos pares o ambos impares \n",
    "6. ¿El cuadrado de 123 se encuentra en el siguiente rango? [N > 0 & N < 20000]\n",
    "7. ¿El cuadrado y la suma de 2 y 2 son iguales? \n",
    "8. Convertir y ejecutar el archivo de la \"sesion06.py\" a un archivo en jupyter notebook \n"
   ]
  }
 ],
 "metadata": {
  "kernelspec": {
   "display_name": "Python 3",
   "language": "python",
   "name": "python3"
  },
  "language_info": {
   "codemirror_mode": {
    "name": "ipython",
    "version": 3
   },
   "file_extension": ".py",
   "mimetype": "text/x-python",
   "name": "python",
   "nbconvert_exporter": "python",
   "pygments_lexer": "ipython3",
   "version": "3.12.3"
  }
 },
 "nbformat": 4,
 "nbformat_minor": 2
}
