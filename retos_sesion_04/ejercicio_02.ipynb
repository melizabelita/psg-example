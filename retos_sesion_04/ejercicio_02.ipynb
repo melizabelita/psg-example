{
 "cells": [
  {
   "cell_type": "code",
   "execution_count": 6,
   "metadata": {},
   "outputs": [
    {
     "name": "stdout",
     "output_type": "stream",
     "text": [
      "Dibujando un patrón\n",
      " ()()()()()()()()()()()()()()()()()()()()()\n",
      " ()()()()()()()()()()()()()()()()()()()()()\n",
      " ()()()      ()()()      ()()()      ()()()\n",
      " ()()()      ()()()      ()()()      ()()()\n",
      " ()()()()()()()()()()()()()()()()()()()()()\n",
      " ()()()()()()()()()()()()()()()()()()()()()\n",
      " ()()()      ()()()      ()()()      ()()()\n",
      " ()()()      ()()()      ()()()      ()()()\n",
      " ()()()()()()()()()()()()()()()()()()()()()\n",
      " ()()()()()()()()()()()()()()()()()()()()()\n",
      " ()()()      ()()()      ()()()      ()()()\n",
      " ()()()      ()()()      ()()()      ()()()\n",
      " ()()()()()()()()()()()()()()()()()()()()()\n",
      " ()()()()()()()()()()()()()()()()()()()()()\n"
     ]
    }
   ],
   "source": [
    "print (\"Dibujando un patrón\") \n",
    "print (\" ()()()()()()()()()()()()()()()()()()()()()\")\n",
    "print (\" ()()()()()()()()()()()()()()()()()()()()()\")\n",
    "print (\" ()()()      ()()()      ()()()      ()()()\")\n",
    "print (\" ()()()      ()()()      ()()()      ()()()\")\n",
    "print (\" ()()()()()()()()()()()()()()()()()()()()()\")\n",
    "print (\" ()()()()()()()()()()()()()()()()()()()()()\")\n",
    "print (\" ()()()      ()()()      ()()()      ()()()\")\n",
    "print (\" ()()()      ()()()      ()()()      ()()()\")\n",
    "print (\" ()()()()()()()()()()()()()()()()()()()()()\")\n",
    "print (\" ()()()()()()()()()()()()()()()()()()()()()\")\n",
    "print (\" ()()()      ()()()      ()()()      ()()()\")\n",
    "print (\" ()()()      ()()()      ()()()      ()()()\")\n",
    "print (\" ()()()()()()()()()()()()()()()()()()()()()\")\n",
    "print (\" ()()()()()()()()()()()()()()()()()()()()()\")\n",
    "\n"
   ]
  },
  {
   "cell_type": "markdown",
   "metadata": {},
   "source": []
  },
  {
   "cell_type": "markdown",
   "metadata": {},
   "source": [
    "# EJERCICIO 02 - NOTEBOOK\n",
    "Crea un archivo *\"ejercicio_02.ipynb\"*.\n",
    "1. Añade un texto markdown con la descripción del ejercicio \"2\"\n",
    "2. Crea una imagen utilizando símbolos y prints\n",
    "Símbolos: * - , () \\ | / _ \" ' = C"
   ]
  }
 ],
 "metadata": {
  "kernelspec": {
   "display_name": "Python 3",
   "language": "python",
   "name": "python3"
  },
  "language_info": {
   "codemirror_mode": {
    "name": "ipython",
    "version": 3
   },
   "file_extension": ".py",
   "mimetype": "text/x-python",
   "name": "python",
   "nbconvert_exporter": "python",
   "pygments_lexer": "ipython3",
   "version": "3.12.3"
  }
 },
 "nbformat": 4,
 "nbformat_minor": 2
}
